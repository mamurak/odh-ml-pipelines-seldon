{
 "cells": [
  {
   "cell_type": "markdown",
   "metadata": {},
   "source": [
    "# Publish trained model"
   ]
  },
  {
   "cell_type": "code",
   "execution_count": null,
   "metadata": {},
   "outputs": [],
   "source": [
    "!pip install boto3\n",
    "!pip install gitpython\n",
    "!pip install pyyaml\n",
    "\n",
    "from datetime import datetime\n",
    "import os\n",
    "\n",
    "import boto3\n",
    "import git\n",
    "import yaml\n",
    "\n",
    "from deployment import get_deployment_resource"
   ]
  },
  {
   "cell_type": "markdown",
   "metadata": {},
   "source": [
    "Read and initialize parameters"
   ]
  },
  {
   "cell_type": "code",
   "execution_count": null,
   "metadata": {},
   "outputs": [],
   "source": [
    "s3_endpoint_url = os.environ.get('S3_ENDPOINT_URL')\n",
    "s3_access_key = os.environ.get('S3_ACCESS_KEY')\n",
    "s3_secret_key = os.environ.get('S3_SECRET_KEY')\n",
    "s3_bucket_prefix = 'anomaly-detection'\n",
    "\n",
    "timestamp = datetime.now().strftime('%y%m%d%H%M')\n",
    "s3_bucket_name = f'{s3_bucket_prefix}-{timestamp}'\n",
    "\n",
    "ops_repo_location = os.environ.get('OPS_REPO_LOCATION')\n",
    "git_user = os.environ.get('GIT_USER')\n",
    "git_password = os.environ.get('GIT_PASSWORD')\n",
    "ops_repo_url = (\n",
    "    f'http://{git_user}:{git_password}@{ops_repo_location.lstrip(\"https://\")}'\n",
    ")"
   ]
  },
  {
   "cell_type": "markdown",
   "metadata": {},
   "source": [
    "Upload model to S3 bucket"
   ]
  },
  {
   "cell_type": "code",
   "execution_count": null,
   "metadata": {},
   "outputs": [],
   "source": [
    "print(f'Uploading model to bucket {s3_bucket_name}'\n",
    "      f'to S3 storage at {s3_endpoint_url}')\n",
    "s3_client = boto3.client(\n",
    "    's3', endpoint_url=s3_endpoint_url,\n",
    "    aws_access_key_id=s3_access_key, aws_secret_access_key=s3_secret_key\n",
    ")\n",
    "s3_client.create_bucket(Bucket=s3_bucket_name)\n",
    "with open('model.joblib', 'rb') as model_file:\n",
    "    s3_client.upload_fileobj(model_file, s3_bucket_name, 'model.joblib')"
   ]
  },
  {
   "cell_type": "markdown",
   "metadata": {},
   "source": [
    "## Push changes to Git\n",
    "\n",
    "Clone ops repository"
   ]
  },
  {
   "cell_type": "code",
   "execution_count": null,
   "metadata": {},
   "outputs": [],
   "source": [
    "print(f'Checking out repo at {ops_repo_location} with user {git_user}')\n",
    "ops_repository_local = '/opt/app-root'\n",
    "try:\n",
    "    repository = git.Repo.clone_from(ops_repo_url, ops_repository_local)\n",
    "except git.GitCommandError as error:\n",
    "    print(f'Git clone failed: {error}\\nChecking out local repository.')\n",
    "    repository = git.Repo(ops_repository_local)\n",
    "\n",
    "with repository.config_writer() as git_config:\n",
    "    git_config.set_value('user', 'name', git_user)"
   ]
  },
  {
   "cell_type": "markdown",
   "metadata": {},
   "source": [
    "Update Seldon Deployment CR in test environment"
   ]
  },
  {
   "cell_type": "code",
   "execution_count": null,
   "metadata": {},
   "outputs": [],
   "source": [
    "deployment_manifest_file_name = (\n",
    "    f'{ops_repository_local}/manifests/inference-service.yaml'\n",
    ")\n",
    "\n",
    "deployment_resource = get_deployment_resource(s3_bucket_name)\n",
    "\n",
    "print(f'Writing updated Seldon Deployment CR: {deployment_resource}')\n",
    "\n",
    "with open(deployment_manifest_file_name, 'w') as outputfile:\n",
    "    yaml.safe_dump(deployment_resource, outputfile)\n",
    "\n",
    "repository.index.add(deployment_manifest_file_name)\n",
    "repository.index.commit(f'Model update {timestamp} in test environment.')\n",
    "repository.remotes.origin.push()"
   ]
  }
 ],
 "metadata": {
  "interpreter": {
   "hash": "e7370f93d1d0cde622a1f8e1c04877d8463912d04d973331ad4851f04de6915a"
  },
  "kernelspec": {
   "display_name": "Python 3",
   "language": "python",
   "name": "python3"
  },
  "language_info": {
   "codemirror_mode": {
    "name": "ipython",
    "version": 3
   },
   "file_extension": ".py",
   "mimetype": "text/x-python",
   "name": "python",
   "nbconvert_exporter": "python",
   "pygments_lexer": "ipython3",
   "version": "3.8.6"
  }
 },
 "nbformat": 4,
 "nbformat_minor": 4
}
