{
    "cells": [
     {
      "cell_type": "code",
      "execution_count": null,
      "id": "f169afb1-0dcc-470e-b141-3fffce7e1fb9",
      "metadata": {},
      "outputs": [],
      "source": [
       "from numpy import random, array2string"
      ]
     },
     {
      "cell_type": "code",
      "execution_count": null,
      "id": "2418b56c-10c3-4b98-9757-7a3e0386f6d9",
      "metadata": {
       "tags": []
      },
      "outputs": [],
      "source": [
       "sample_size = 100000"
      ]
     },
     {
      "cell_type": "code",
      "execution_count": null,
      "id": "8e657172-7def-4dc4-85e3-efe14901fed8",
      "metadata": {},
      "outputs": [],
      "source": [
       "generator = random.default_rng()\n",
       "\n",
       "samples = generator.normal(15.0, size=[sample_size, 5])\n",
       "\n",
       "with open('sample.data', 'w') as outputfile:\n",
       "    for sample in samples:\n",
       "        outputfile.write(f\"[{array2string(sample, separator=', ')}]\\n\")"
      ]
     }
    ],
    "metadata": {
     "kernelspec": {
      "display_name": "Python 3 (ipykernel)",
      "language": "python",
      "name": "python3"
     },
     "language_info": {
      "codemirror_mode": {
       "name": "ipython",
       "version": 3
      },
      "file_extension": ".py",
      "mimetype": "text/x-python",
      "name": "python",
      "nbconvert_exporter": "python",
      "pygments_lexer": "ipython3",
      "version": "3.8.8"
     }
    },
    "nbformat": 4,
    "nbformat_minor": 5
   }
   