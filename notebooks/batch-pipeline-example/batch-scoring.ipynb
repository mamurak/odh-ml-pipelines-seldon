{
    "cells": [
     {
      "cell_type": "code",
      "execution_count": null,
      "id": "eb0c469f-8b12-4eb6-8ff3-273c5264e9b5",
      "metadata": {},
      "outputs": [],
      "source": [
       "!seldon-batch-processor -d inference-service -g seldon -a data -w 2 -s 10 -i sample.data -o output -h inference-service-predictor.odh-ml.svc.cluster.local:8000"
      ]
     }
    ],
    "metadata": {
     "kernelspec": {
      "display_name": "Python 3 (ipykernel)",
      "language": "python",
      "name": "python3"
     },
     "language_info": {
      "codemirror_mode": {
       "name": "ipython",
       "version": 3
      },
      "file_extension": ".py",
      "mimetype": "text/x-python",
      "name": "python",
      "nbconvert_exporter": "python",
      "pygments_lexer": "ipython3",
      "version": "3.8.8"
     }
    },
    "nbformat": 4,
    "nbformat_minor": 5
   }
   